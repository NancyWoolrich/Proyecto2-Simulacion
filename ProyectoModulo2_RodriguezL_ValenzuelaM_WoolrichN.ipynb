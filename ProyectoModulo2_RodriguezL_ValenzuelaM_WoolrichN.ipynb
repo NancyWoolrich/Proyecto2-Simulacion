{
 "cells": [
  {
   "cell_type": "markdown",
   "id": "ea9f5813",
   "metadata": {},
   "source": [
    "# <center>Instituto Tecnológico de Estudios Superiores de Occidente</center>\n",
    "\n",
    "\n",
    "\n",
    "<img style=\"float: center\" src=\"logo-ITESO-png.png\" width=\"350px\" height=\"125px\"/>\n",
    "\n",
    "\n",
    "\n",
    "\n",
    "#### <center>\"Simulación Matemática\"</center>\n",
    "\n",
    "\n",
    "### <center>SIMULACIÓN DE UN PORTAFOLIO DE INVERSIÓN</center>\n",
    "\n",
    ".\n",
    "\n",
    "\n",
    "\n",
    "**<center>Profesor: Gabriel Alejando Morales Ruiz</center>**\n",
    "\n",
    ".\n",
    "\n",
    "\n",
    "\n",
    "**<center>Leonardo Rodríguez Hernández - 741983</center>**\n",
    "\n",
    "\n",
    "\n",
    "**<center>Valenzuela Lafarga Mariana - 749770</center>**\n",
    "\n",
    "\n",
    "\n",
    "**<center>Nancy Woolrich Sorroza - 741983</center>**\n",
    "\n",
    "\n",
    "\n",
    ".\n",
    "\n",
    "\n",
    "**<center>22 de abril 2024.</center>**"
   ]
  },
  {
   "cell_type": "markdown",
   "id": "672d96d9",
   "metadata": {},
   "source": [
    "## <center> Construcción de un portafolio de inversión con programación lineal</center>\n",
    "\n",
    "### Introducción\n",
    "    \n",
    "  \n",
    "    \n",
    "\n",
    "### Objetivos\n",
    "\n",
    "#### 1.1 Objetivo general.\n",
    "\n",
    "Pronosticar un portaforlio de inversión a un año.\n",
    "\n",
    "#### 1.2 Objetivos específicos\n",
    "\n",
    "- \n"
   ]
  },
  {
   "cell_type": "markdown",
   "id": "af8bb35a",
   "metadata": {},
   "source": [
    "### Modelo del problema.\n",
    "\n",
    "Para generar el modelo que maximice los rendimientos se utilizarán los datos diarios de los últimos 3 años de los activos sacados de Yahoo finance.\n",
    "\n",
    "Las acciones con las que se trabajará en el portafolio son:\n",
    "\n",
    ">- **VRTX:** Vertex Pharmaceuticals Incorporated, una empresa de biotecnología, se dedica al desarrollo y comercialización de terapias para el tratamiento de la fibrosis quística (FQ).\n",
    "\n",
    "\n",
    ">- **LLY:** Eli Lilly and Company descubre, desarrolla y comercializa productos farmacéuticos humanos en todo el mundo.\n",
    "\n",
    "\n",
    ">- **FN:** Fabrinet ofrece embalaje óptico y servicios de fabricación óptica, electromecánica y electrónica de precisión en América del Norte, Asia-Pacífico y Europa.\n",
    "\n",
    "\n",
    ">- **OXY:** Occidental Petroleum Corporation, junto con sus subsidiarias, se dedica a la adquisición, exploración y desarrollo de propiedades de petróleo y gas en los Estados Unidos, Medio Oriente y el norte de África.\n",
    "\n",
    "\n",
    ">- **ACWI:** El índice MSCI ACWI (All Country World Index) está compuesto por acciones de empresas de todo el mundo, incluyendo tanto mercados desarrollados como emergentes.\n",
    "\n",
    "\n",
    ">- **RF:** Activo libre de riesgo en este caso se tomo el dato del CETE a 28 días.\n"
   ]
  },
  {
   "cell_type": "code",
   "execution_count": 1,
   "id": "ff231b0b",
   "metadata": {},
   "outputs": [],
   "source": [
    "import pandas_datareader.data as web\n",
    "import yfinance as yf\n",
    "import pandas as pd\n",
    "import numpy as np\n",
    "%matplotlib inline\n",
    "yf.pdr_override()"
   ]
  },
  {
   "cell_type": "code",
   "execution_count": 3,
   "id": "835b88b2",
   "metadata": {},
   "outputs": [],
   "source": [
    "# Función para descargar precios de cierre ajustados:\n",
    "def get_adj_closes(tickers,\n",
    "                   start_date=None,\n",
    "                   end_date=None):\n",
    "    # Fecha inicio por defecto (start_date='2010-01-01') y fecha fin por defecto (end_date=today)\n",
    "    # Descargamos DataFrame con todos los datos\n",
    "    closes = web.get_data_yahoo(\n",
    "        tickers=tickers,\n",
    "        start=start_date,\n",
    "        end=end_date\n",
    "    )\n",
    "    # Solo necesitamos los precios ajustados en el cierre\n",
    "    closes = closes['Adj Close']\n",
    "    # Se ordenan los índices de manera ascendente\n",
    "    closes.sort_index(inplace=True)\n",
    "    return closes"
   ]
  },
  {
   "cell_type": "code",
   "execution_count": 15,
   "id": "0859e64f",
   "metadata": {
    "scrolled": true
   },
   "outputs": [
    {
     "name": "stdout",
     "output_type": "stream",
     "text": [
      "[*********************100%***********************]  5 of 5 completed\n"
     ]
    },
    {
     "data": {
      "text/html": [
       "<div>\n",
       "<style scoped>\n",
       "    .dataframe tbody tr th:only-of-type {\n",
       "        vertical-align: middle;\n",
       "    }\n",
       "\n",
       "    .dataframe tbody tr th {\n",
       "        vertical-align: top;\n",
       "    }\n",
       "\n",
       "    .dataframe thead th {\n",
       "        text-align: right;\n",
       "    }\n",
       "</style>\n",
       "<table border=\"1\" class=\"dataframe\">\n",
       "  <thead>\n",
       "    <tr style=\"text-align: right;\">\n",
       "      <th></th>\n",
       "      <th>ACWI</th>\n",
       "      <th>FN</th>\n",
       "      <th>LLY</th>\n",
       "      <th>OXY</th>\n",
       "      <th>VRTX</th>\n",
       "    </tr>\n",
       "    <tr>\n",
       "      <th>Date</th>\n",
       "      <th></th>\n",
       "      <th></th>\n",
       "      <th></th>\n",
       "      <th></th>\n",
       "      <th></th>\n",
       "    </tr>\n",
       "  </thead>\n",
       "  <tbody>\n",
       "    <tr>\n",
       "      <th>2021-02-22 00:00:00-05:00</th>\n",
       "      <td>89.845230</td>\n",
       "      <td>88.720001</td>\n",
       "      <td>193.580917</td>\n",
       "      <td>25.905037</td>\n",
       "      <td>214.960007</td>\n",
       "    </tr>\n",
       "    <tr>\n",
       "      <th>2021-02-23 00:00:00-05:00</th>\n",
       "      <td>89.911545</td>\n",
       "      <td>88.120003</td>\n",
       "      <td>195.317230</td>\n",
       "      <td>25.503790</td>\n",
       "      <td>216.440002</td>\n",
       "    </tr>\n",
       "    <tr>\n",
       "      <th>2021-02-24 00:00:00-05:00</th>\n",
       "      <td>90.423096</td>\n",
       "      <td>90.160004</td>\n",
       "      <td>197.285065</td>\n",
       "      <td>27.558966</td>\n",
       "      <td>217.039993</td>\n",
       "    </tr>\n",
       "    <tr>\n",
       "      <th>2021-02-25 00:00:00-05:00</th>\n",
       "      <td>88.424225</td>\n",
       "      <td>87.889999</td>\n",
       "      <td>196.609848</td>\n",
       "      <td>26.179062</td>\n",
       "      <td>212.979996</td>\n",
       "    </tr>\n",
       "    <tr>\n",
       "      <th>2021-02-26 00:00:00-05:00</th>\n",
       "      <td>87.637947</td>\n",
       "      <td>88.330002</td>\n",
       "      <td>197.641998</td>\n",
       "      <td>26.042049</td>\n",
       "      <td>212.550003</td>\n",
       "    </tr>\n",
       "  </tbody>\n",
       "</table>\n",
       "</div>"
      ],
      "text/plain": [
       "                                ACWI         FN         LLY        OXY  \\\n",
       "Date                                                                     \n",
       "2021-02-22 00:00:00-05:00  89.845230  88.720001  193.580917  25.905037   \n",
       "2021-02-23 00:00:00-05:00  89.911545  88.120003  195.317230  25.503790   \n",
       "2021-02-24 00:00:00-05:00  90.423096  90.160004  197.285065  27.558966   \n",
       "2021-02-25 00:00:00-05:00  88.424225  87.889999  196.609848  26.179062   \n",
       "2021-02-26 00:00:00-05:00  87.637947  88.330002  197.641998  26.042049   \n",
       "\n",
       "                                 VRTX  \n",
       "Date                                   \n",
       "2021-02-22 00:00:00-05:00  214.960007  \n",
       "2021-02-23 00:00:00-05:00  216.440002  \n",
       "2021-02-24 00:00:00-05:00  217.039993  \n",
       "2021-02-25 00:00:00-05:00  212.979996  \n",
       "2021-02-26 00:00:00-05:00  212.550003  "
      ]
     },
     "execution_count": 15,
     "metadata": {},
     "output_type": "execute_result"
    }
   ],
   "source": [
    "tickers = [\"VRTX\", \"LLY\", \"FN\", \"OXY\", \"ACWI\"]\n",
    "start_date = start_date = \"2021-02-22\"\n",
    "closes = get_adj_closes(\n",
    "    tickers=tickers,\n",
    "    start_date=start_date\n",
    ")\n",
    "closes.head()"
   ]
  },
  {
   "cell_type": "markdown",
   "id": "28948443",
   "metadata": {},
   "source": [
    "."
   ]
  },
  {
   "cell_type": "markdown",
   "id": "bb28d29a",
   "metadata": {},
   "source": [
    "El siguente paso es obtener el rendimiento diario y anualizarlo."
   ]
  },
  {
   "cell_type": "markdown",
   "id": "c48b7f92",
   "metadata": {},
   "source": [
    "."
   ]
  },
  {
   "cell_type": "code",
   "execution_count": 16,
   "id": "8d79185f",
   "metadata": {
    "scrolled": true
   },
   "outputs": [
    {
     "data": {
      "text/html": [
       "<div>\n",
       "<style scoped>\n",
       "    .dataframe tbody tr th:only-of-type {\n",
       "        vertical-align: middle;\n",
       "    }\n",
       "\n",
       "    .dataframe tbody tr th {\n",
       "        vertical-align: top;\n",
       "    }\n",
       "\n",
       "    .dataframe thead th {\n",
       "        text-align: right;\n",
       "    }\n",
       "</style>\n",
       "<table border=\"1\" class=\"dataframe\">\n",
       "  <thead>\n",
       "    <tr style=\"text-align: right;\">\n",
       "      <th></th>\n",
       "      <th>ACWI</th>\n",
       "      <th>FN</th>\n",
       "      <th>LLY</th>\n",
       "      <th>OXY</th>\n",
       "      <th>VRTX</th>\n",
       "    </tr>\n",
       "    <tr>\n",
       "      <th>Date</th>\n",
       "      <th></th>\n",
       "      <th></th>\n",
       "      <th></th>\n",
       "      <th></th>\n",
       "      <th></th>\n",
       "    </tr>\n",
       "  </thead>\n",
       "  <tbody>\n",
       "    <tr>\n",
       "      <th>2021-02-23 00:00:00-05:00</th>\n",
       "      <td>0.000738</td>\n",
       "      <td>-0.006763</td>\n",
       "      <td>0.008969</td>\n",
       "      <td>-0.015489</td>\n",
       "      <td>0.006885</td>\n",
       "    </tr>\n",
       "    <tr>\n",
       "      <th>2021-02-24 00:00:00-05:00</th>\n",
       "      <td>0.005689</td>\n",
       "      <td>0.023150</td>\n",
       "      <td>0.010075</td>\n",
       "      <td>0.080583</td>\n",
       "      <td>0.002772</td>\n",
       "    </tr>\n",
       "    <tr>\n",
       "      <th>2021-02-25 00:00:00-05:00</th>\n",
       "      <td>-0.022106</td>\n",
       "      <td>-0.025178</td>\n",
       "      <td>-0.003423</td>\n",
       "      <td>-0.050071</td>\n",
       "      <td>-0.018706</td>\n",
       "    </tr>\n",
       "    <tr>\n",
       "      <th>2021-02-26 00:00:00-05:00</th>\n",
       "      <td>-0.008892</td>\n",
       "      <td>0.005006</td>\n",
       "      <td>0.005250</td>\n",
       "      <td>-0.005234</td>\n",
       "      <td>-0.002019</td>\n",
       "    </tr>\n",
       "    <tr>\n",
       "      <th>2021-03-01 00:00:00-05:00</th>\n",
       "      <td>0.023025</td>\n",
       "      <td>0.037700</td>\n",
       "      <td>0.007712</td>\n",
       "      <td>0.038707</td>\n",
       "      <td>-0.010209</td>\n",
       "    </tr>\n",
       "  </tbody>\n",
       "</table>\n",
       "</div>"
      ],
      "text/plain": [
       "                               ACWI        FN       LLY       OXY      VRTX\n",
       "Date                                                                       \n",
       "2021-02-23 00:00:00-05:00  0.000738 -0.006763  0.008969 -0.015489  0.006885\n",
       "2021-02-24 00:00:00-05:00  0.005689  0.023150  0.010075  0.080583  0.002772\n",
       "2021-02-25 00:00:00-05:00 -0.022106 -0.025178 -0.003423 -0.050071 -0.018706\n",
       "2021-02-26 00:00:00-05:00 -0.008892  0.005006  0.005250 -0.005234 -0.002019\n",
       "2021-03-01 00:00:00-05:00  0.023025  0.037700  0.007712  0.038707 -0.010209"
      ]
     },
     "execution_count": 16,
     "metadata": {},
     "output_type": "execute_result"
    }
   ],
   "source": [
    "ret = closes.pct_change().dropna()\n",
    "ret.head()"
   ]
  },
  {
   "cell_type": "code",
   "execution_count": 17,
   "id": "2bbee629",
   "metadata": {},
   "outputs": [
    {
     "data": {
      "text/html": [
       "<div>\n",
       "<style scoped>\n",
       "    .dataframe tbody tr th:only-of-type {\n",
       "        vertical-align: middle;\n",
       "    }\n",
       "\n",
       "    .dataframe tbody tr th {\n",
       "        vertical-align: top;\n",
       "    }\n",
       "\n",
       "    .dataframe thead th {\n",
       "        text-align: right;\n",
       "    }\n",
       "</style>\n",
       "<table border=\"1\" class=\"dataframe\">\n",
       "  <thead>\n",
       "    <tr style=\"text-align: right;\">\n",
       "      <th></th>\n",
       "      <th>ACWI</th>\n",
       "      <th>FN</th>\n",
       "      <th>LLY</th>\n",
       "      <th>OXY</th>\n",
       "      <th>VRTX</th>\n",
       "    </tr>\n",
       "  </thead>\n",
       "  <tbody>\n",
       "    <tr>\n",
       "      <th>media</th>\n",
       "      <td>0.071197</td>\n",
       "      <td>0.363434</td>\n",
       "      <td>0.500917</td>\n",
       "      <td>0.3883</td>\n",
       "      <td>0.265542</td>\n",
       "    </tr>\n",
       "  </tbody>\n",
       "</table>\n",
       "</div>"
      ],
      "text/plain": [
       "           ACWI        FN       LLY     OXY      VRTX\n",
       "media  0.071197  0.363434  0.500917  0.3883  0.265542"
      ]
     },
     "execution_count": 17,
     "metadata": {},
     "output_type": "execute_result"
    }
   ],
   "source": [
    "summary_annual = pd.DataFrame({\n",
    "    \"media\": ret.mean() * 252,\n",
    "}).T\n",
    "summary_annual"
   ]
  },
  {
   "cell_type": "markdown",
   "id": "9f4384b4",
   "metadata": {},
   "source": [
    "- **Modelo**\n",
    "\n",
    "Una vez que se obtuvieron los rendimientos anualizados ya se puede generar la función a optimizar que queda de la sieguiente manera:\n",
    "\n",
    ".\n",
    "\n",
    "$$\\max_{ACWI, \\dots ,RF}  0.0711 ACWI + 0.3634 FN + 0.5009 LLY + 0.3883 OXY + 0.265542 VRTX + 0.1123 RF$$\n",
    "\n",
    ".\n",
    "\n",
    "\n",
    "Esta función lo que hace es que el rendimiento de cada activo se multiplica por la cantidad de dinero que se invertirá en cada uno y se suman para obtener el rendimiento total que se busca maximizar.\n",
    "\n",
    "La cantidad de dinero que se coloca en cada acción, son las variables que no se pueden controlar, por lo que serán resueltas por medio de programación lineal.\n"
   ]
  },
  {
   "cell_type": "markdown",
   "id": "ce0e7c93",
   "metadata": {},
   "source": [
    "- **Restricciones**\n",
    "\n",
    "La principal restricción para este modelo es que la cantidad de dinero  disponible para invertir será de $\\$1,000,000$. Por otro lado, para administrar el riesgo se quiere colocar al menos el $35\\%$ en el activo libre de riesgo y en cada activo se debe invertir al menos el $10\\%$ de la inversión total.\n",
    "\n",
    "Las restricciones quedarán de la siguiente manera:\n",
    "\n",
    "1. $ACWI+ FN+ LLY+ OXY + VRTX + RF =1000000$\n",
    "2. $RF \\geq 350,000 $\n",
    "3. $ ACWI \\geq 100,000$\n",
    "4. $ FN \\geq 100,000$\n",
    "5. $ LLY \\geq 100,000$\n",
    "6. $ OXY \\geq 100,000$\n",
    "7. $ VRTX \\geq 100,000$"
   ]
  },
  {
   "cell_type": "markdown",
   "id": "5cde448b",
   "metadata": {},
   "source": [
    "- **Explicación y limitaciones**\n",
    "\n",
    "El modelo planteado anteriormente pretende resolver la cantidad de capital que se tiene que invertir en cada uno de los activos para obtener el máximo rendimiento cumpliendo con las restricciones dadas. \n",
    "\n",
    "Las limitaciones que presenta este modelo es que no toma en cuenta el riesgo de los activos, ya que se decidió maximizar el rendimiento por encima del riesgo; la otra limitación es que debido a que los rendimientos de cada activo son fluctuantes no van a ser exactos, sin embargo este modelo trata de aproximarse lo más posible con los datos históricos. "
   ]
  },
  {
   "cell_type": "markdown",
   "id": "30c205df",
   "metadata": {},
   "source": [
    "### Solución del modelo\n",
    "\n",
    "Los pasos a seguir son:\n",
    "\n",
    "1. Importar las funciones que se van a usar.\n",
    "2. Declarar las matrices que representan la función de costo y las restricciones."
   ]
  },
  {
   "cell_type": "code",
   "execution_count": 5,
   "id": "e02b4d64",
   "metadata": {},
   "outputs": [
    {
     "data": {
      "text/plain": [
       "        message: Optimization terminated successfully. (HiGHS Status 7: Optimal)\n",
       "        success: True\n",
       "         status: 0\n",
       "            fun: -383894.2\n",
       "              x: [ 2.500e+05  1.000e+05  1.000e+05  1.000e+05  1.000e+05\n",
       "                   3.500e+05]\n",
       "            nit: 0\n",
       "          lower:  residual: [ 2.500e+05  1.000e+05  1.000e+05  1.000e+05\n",
       "                              1.000e+05  3.500e+05]\n",
       "                 marginals: [ 0.000e+00  0.000e+00  0.000e+00  0.000e+00\n",
       "                              0.000e+00  0.000e+00]\n",
       "          upper:  residual: [       inf        inf        inf        inf\n",
       "                                    inf        inf]\n",
       "                 marginals: [ 0.000e+00  0.000e+00  0.000e+00  0.000e+00\n",
       "                              0.000e+00  0.000e+00]\n",
       "          eqlin:  residual: [ 0.000e+00]\n",
       "                 marginals: [-7.711e-01]\n",
       "        ineqlin:  residual: [ 1.500e+05  0.000e+00  0.000e+00  0.000e+00\n",
       "                              0.000e+00  0.000e+00]\n",
       "                 marginals: [-0.000e+00 -4.077e-01 -2.702e-01 -3.828e-01\n",
       "                             -5.056e-01 -6.588e-01]\n",
       " mip_node_count: 0\n",
       " mip_dual_bound: 0.0\n",
       "        mip_gap: 0.0"
      ]
     },
     "execution_count": 5,
     "metadata": {},
     "output_type": "execute_result"
    }
   ],
   "source": [
    "import numpy as np\n",
    "import scipy.optimize as opt\n",
    "\n",
    "c=np.array([-0.7711,\n",
    "            -0.3634,\n",
    "            -0.5009,\n",
    "            -0.3883,\n",
    "            -0.265542,\n",
    "            -0.1123])\n",
    "\n",
    "A_ub=np.array([ \n",
    "    [-1, 0, 0, 0, 0, 0],\n",
    "    [0, -1, 0, 0, 0, 0],\n",
    "    [0, 0, -1, 0, 0, 0],\n",
    "    [0, 0, 0, -1, 0, 0],\n",
    "    [0, 0, 0, 0, -1, 0],\n",
    "    [0, 0, 0, 0, 0, -1]\n",
    "])\n",
    "\n",
    "bub=np.array([-100000,\n",
    "              -100000,\n",
    "              -100000,\n",
    "              -100000,\n",
    "              -100000,\n",
    "              -350000,])\n",
    "\n",
    "A_eq=np.array([ \n",
    "    [1, 1, 1, 1, 1, 1]\n",
    "])\n",
    "\n",
    "beq=np.array([1000000])\n",
    "\n",
    "import scipy.optimize as opt\n",
    "\n",
    "opt.linprog (c, A_ub, bub, A_eq, beq)\n"
   ]
  },
  {
   "cell_type": "markdown",
   "id": "c7d0f728",
   "metadata": {},
   "source": [
    "Se obtuvo que de los activos **𝐴𝐶𝑊𝐼** se deben invertir **$\\$250,000$**; de **𝐹𝑁** se deben invertir **$\\$100,000$**; de **𝐿𝐿𝑌** se deben invertir **$\\$100,000$**; de **𝑂𝑋𝑌** se deben invertir **$\\$100,000$**; de **V𝑅𝑇𝑋** se deben invertir **$\\$100,000$**; y de **𝑅𝐹** se deben invertir **$\\$350,000$**.\n",
    "\n",
    "Estos resultados tienen congruencia, al sumar todos los montos que salieron de resultado da los $\\$1,000,000$ que se deseaba invertir en todos los activos."
   ]
  },
  {
   "cell_type": "markdown",
   "id": "390ceb8e",
   "metadata": {},
   "source": [
    "### Visualización gráfica de la solución\n",
    "\n",
    "En la siguiente gráfica de pastel se muestra el resultado exlicado en la solución del modelo, representando en porcentaje la cantidad de dinero que se va a invertir para cada activo, recordando que la cantidad total es de $\\$1,000,000$."
   ]
  },
  {
   "cell_type": "code",
   "execution_count": 1,
   "id": "1b64018f",
   "metadata": {},
   "outputs": [
    {
     "data": {
      "image/png": "[encoded data removed]",
      "text/plain": [
       "<Figure size 640x480 with 1 Axes>"
      ]
     },
     "metadata": {},
     "output_type": "display_data"
    }
   ],
   "source": [
    "import matplotlib.pyplot as plt\n",
    "\n",
    "plt.title('Porecentaje de inversión para cada activo')\n",
    "activos = [350000,250000,100000,100000,100000,100000]\n",
    "nombres = [\"RF\",\"ACWI\",\"FN\",\"LLY\",\"OXY\",\"RTX\"]\n",
    "colores = [\"#b2ebf2\", \"#00838f\", \"#0097a7\", \"#00acc1\", \"#4dd0e1\", \"#80deea\"]\n",
    "desfase = (0.1, 0, 0, 0, 0, 0)\n",
    "plt.pie(activos, labels=nombres, autopct=\"%0.1f %%\", colors=colores, explode=desfase)\n",
    "plt.axis(\"equal\")\n",
    "plt.show()\n",
    "\n"
   ]
  },
  {
   "cell_type": "markdown",
   "id": "61d36c4b",
   "metadata": {},
   "source": [
    "### Conclusiones.\n",
    "\n",
    "Finalmente, se puede concluir que se logró encontrar el portafolio de inversión que maximiza las ganancias de la cartera propuesta con la función de costo, la cual fue planteada con el rendimiento anual de los activos de Vertex Pharmaceuticals Incorporated (VRTX), Eli Lilly and Company (LLY), Fabrinet (FN), Occidental Petroleum Corporation (OXY), el índice MSCI ACWI (All Country World Index) (ACWI) y el activo libre de riesgo (RF). \n",
    "\n",
    "Con un capital disponible de $\\$1,000,000$ del que se colocó en el activo libre de riesgo al menos el $35\\%$ y al menos el $10\\%$  en cada activo de la inversión total, la optimización arrojó que se debe invertir $\\$250,000$ en 𝐴𝐶𝑊𝐼; $\\$100,000$ en 𝐹𝑁, 𝐿𝐿𝑌, 𝑂𝑋𝑌 y V𝑅𝑇𝑋; y $\\$350,000$ en 𝑅𝐹 para obtener un rendimiento máximo en la cartera de inversión, el cual es un resultado coherente para este problema.\n",
    "\n",
    "\n",
    "### Referencias.\n",
    "\n",
    ">-COPARMEX Jalisco (2022). *¿Qué es un portafolio de inversión financiera?*. Coparmex.org. Recuperado de: https://coparmexjal.org.mx/entorno-empresarial/que-es-un-portafolio-de-inversion-financiera/"
   ]
  },
  {
   "cell_type": "code",
   "execution_count": null,
   "id": "902a6b67",
   "metadata": {},
   "outputs": [],
   "source": []
  }
 ],
 "metadata": {
  "kernelspec": {
   "display_name": "Python 3 (ipykernel)",
   "language": "python",
   "name": "python3"
  },
  "language_info": {
   "codemirror_mode": {
    "name": "ipython",
    "version": 3
   },
   "file_extension": ".py",
   "mimetype": "text/x-python",
   "name": "python",
   "nbconvert_exporter": "python",
   "pygments_lexer": "ipython3",
   "version": "3.11.5"
  }
 },
 "nbformat": 4,
 "nbformat_minor": 5
}
