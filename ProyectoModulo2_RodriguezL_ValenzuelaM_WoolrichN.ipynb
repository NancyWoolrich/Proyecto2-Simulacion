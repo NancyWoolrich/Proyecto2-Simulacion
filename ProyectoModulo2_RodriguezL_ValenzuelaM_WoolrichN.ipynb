{
 "cells": [
  {
   "cell_type": "markdown",
   "id": "ea9f5813",
   "metadata": {},
   "source": [
    "# <center>Instituto Tecnológico de Estudios Superiores de Occidente</center>\n",
    "\n",
    "\n",
    "\n",
    "<img style=\"float: center\" src=\"logo-ITESO-png.png\" width=\"350px\" height=\"125px\"/>\n",
    "\n",
    "\n",
    "\n",
    "\n",
    "#### <center>\"Simulación Matemática\"</center>\n",
    "\n",
    "\n",
    "### <center>SIMULACIÓN DE UN PORTAFOLIO DE INVERSIÓN</center>\n",
    "\n",
    ".\n",
    "\n",
    "\n",
    "\n",
    "**<center>Profesor: Gabriel Alejando Morales Ruiz</center>**\n",
    "\n",
    ".\n",
    "\n",
    "\n",
    "\n",
    "**<center>Leonardo Rodríguez Hernández - 741983</center>**\n",
    "\n",
    "\n",
    "\n",
    "**<center>Valenzuela Lafarga Mariana - 749770</center>**\n",
    "\n",
    "\n",
    "\n",
    "**<center>Nancy Woolrich Sorroza - 741983</center>**\n",
    "\n",
    "\n",
    "\n",
    ".\n",
    "\n",
    "\n",
    "**<center>22 de abril 2024.</center>**"
   ]
  },
  {
   "cell_type": "markdown",
   "id": "672d96d9",
   "metadata": {},
   "source": [
    "## <center> Construcción de un portafolio de inversión con programación lineal</center>\n",
    "\n",
    "### Introducción\n",
    "    \n",
    "  \n",
    "    \n",
    "\n",
    "### Objetivos\n",
    "\n",
    "#### 1.1 Objetivo general.\n",
    "\n",
    "Pronosticar un portaforlio de inversión a un año.\n",
    "\n",
    "#### 1.2 Objetivos específicos\n",
    "- Calcular la media y desviación estándar de los rendimientos diarios de las acciones de cada empresa para evaluar su distribución y realizar el pronósico\n",
    "\n",
    "- Utilizar el método de aproximación de Montecarlo para simular múltiples escenarios de rendimiento del portafolio de inversión en el próximo año.\n",
    "- Generar visualizaciones claras y concisas de los resultados del proyecto, incluidas gráficas de desempeño del portafolio y distribuciones de rendimientos simulados.\n"
   ]
  },
  {
   "cell_type": "markdown",
   "id": "af8bb35a",
   "metadata": {},
   "source": [
    "### Modelo del problema.\n",
    "\n",
    "Para generar el modelo que pronostique los rendimientos a 1 año se utilizarán los datos diarios del 14 de abril de 2022 a 2023 para poder realizar la comparación con el año 2024 y determinar si el modelo planteado es válido, los datos son sacados de Yahoo finance.\n",
    "\n",
    "Las acciones con las que se trabajará en el portafolio son:\n",
    "\n",
    ">- **AAPL:** Apple Inc. diseña, fabrica y comercializa teléfonos inteligentes, computadoras personales, tabletas, dispositivos portátiles y accesorios en todo el mundo.Es la empresa de tecnología más grande del mundo.\n",
    "\n",
    ">- **AZO:** AutoZone, Inc. vende y distribuye repuestos y accesorios automotrices en Estados Unidos, México y Brasil. La empresa ofrece diversos productos para automóviles, vehículos utilitarios deportivos, camionetas y camiones ligeros.\n",
    "\n",
    "\n",
    ">- **VRTX:** ertex Pharmaceuticals Incorporated, una empresa de biotecnología, se dedica al desarrollo y comercialización de terapias para el tratamiento de la fibrosis quística (FQ).\n",
    "\n",
    "\n",
    ">- **OXY:** Occidental Petroleum Corporation, junto con sus subsidiarias, se dedica a la adquisición, exploración y desarrollo de propiedades de petróleo y gas en los Estados Unidos, Medio Oriente y el norte de África.\n",
    "\n",
    "\n",
    ">- **WMT:** Walmart Inc. se dedica a la operación de ventas al por menor, al por mayor, otras unidades y comercio electrónico en todo el mundo. La empresa opera a través de tres segmentos: Walmart U.S., Walmart International y Sam's Club.\n",
    "\n",
    "Se decidieron escoger acciones que fueran medianamente estables con volatilidades no tan altas para que el modelo tenga un menor grado de error. \n"
   ]
  },
  {
   "cell_type": "code",
   "execution_count": 16,
   "id": "ff231b0b",
   "metadata": {},
   "outputs": [
    {
     "ename": "ModuleNotFoundError",
     "evalue": "No module named 'pandas_datareader'",
     "output_type": "error",
     "traceback": [
      "\u001b[0;31m---------------------------------------------------------------------------\u001b[0m",
      "\u001b[0;31mModuleNotFoundError\u001b[0m                       Traceback (most recent call last)",
      "Cell \u001b[0;32mIn[16], line 1\u001b[0m\n\u001b[0;32m----> 1\u001b[0m \u001b[38;5;28;01mimport\u001b[39;00m \u001b[38;5;21;01mpandas_datareader\u001b[39;00m\u001b[38;5;21;01m.\u001b[39;00m\u001b[38;5;21;01mdata\u001b[39;00m \u001b[38;5;28;01mas\u001b[39;00m \u001b[38;5;21;01mweb\u001b[39;00m\n\u001b[1;32m      2\u001b[0m \u001b[38;5;28;01mimport\u001b[39;00m \u001b[38;5;21;01myfinance\u001b[39;00m \u001b[38;5;28;01mas\u001b[39;00m \u001b[38;5;21;01myf\u001b[39;00m\n\u001b[1;32m      3\u001b[0m \u001b[38;5;28;01mimport\u001b[39;00m \u001b[38;5;21;01mpandas\u001b[39;00m \u001b[38;5;28;01mas\u001b[39;00m \u001b[38;5;21;01mpd\u001b[39;00m\n",
      "\u001b[0;31mModuleNotFoundError\u001b[0m: No module named 'pandas_datareader'"
     ]
    }
   ],
   "source": [
    "import pandas_datareader.data as web\n",
    "import yfinance as yf\n",
    "import pandas as pd\n",
    "import numpy as np\n",
    "%matplotlib inline\n",
    "yf.pdr_override()"
   ]
  },
  {
   "cell_type": "code",
   "execution_count": 9,
   "id": "835b88b2",
   "metadata": {},
   "outputs": [],
   "source": [
    "# Función para descargar precios de cierre ajustados:\n",
    "def get_adj_closes(tickers,\n",
    "                   start_date=None,\n",
    "                   end_date=None):\n",
    "    # Fecha inicio por defecto (start_date='2010-01-01') y fecha fin por defecto (end_date=today)\n",
    "    # Descargamos DataFrame con todos los datos\n",
    "    closes = web.get_data_yahoo(\n",
    "        tickers=tickers,\n",
    "        start=start_date,\n",
    "        end=end_date\n",
    "    )\n",
    "    # Solo necesitamos los precios ajustados en el cierre\n",
    "    closes = closes['Adj Close']\n",
    "    # Se ordenan los índices de manera ascendente\n",
    "    closes.sort_index(inplace=True)\n",
    "    return closes"
   ]
  },
  {
   "cell_type": "code",
   "execution_count": 10,
   "id": "0859e64f",
   "metadata": {
    "scrolled": true
   },
   "outputs": [
    {
     "ename": "NameError",
     "evalue": "name 'web' is not defined",
     "output_type": "error",
     "traceback": [
      "\u001b[0;31m---------------------------------------------------------------------------\u001b[0m",
      "\u001b[0;31mNameError\u001b[0m                                 Traceback (most recent call last)",
      "Cell \u001b[0;32mIn[10], line 4\u001b[0m\n\u001b[1;32m      2\u001b[0m start_date \u001b[38;5;241m=\u001b[39m \u001b[38;5;124m\"\u001b[39m\u001b[38;5;124m2022-04-14\u001b[39m\u001b[38;5;124m\"\u001b[39m\n\u001b[1;32m      3\u001b[0m end_date\u001b[38;5;241m=\u001b[39m \u001b[38;5;124m\"\u001b[39m\u001b[38;5;124m2023-04-14\u001b[39m\u001b[38;5;124m\"\u001b[39m\n\u001b[0;32m----> 4\u001b[0m closes \u001b[38;5;241m=\u001b[39m get_adj_closes(\n\u001b[1;32m      5\u001b[0m     tickers\u001b[38;5;241m=\u001b[39mtickers,\n\u001b[1;32m      6\u001b[0m     start_date\u001b[38;5;241m=\u001b[39mstart_date,\n\u001b[1;32m      7\u001b[0m     end_date\u001b[38;5;241m=\u001b[39mend_date\n\u001b[1;32m      8\u001b[0m )\n\u001b[1;32m      9\u001b[0m closes\u001b[38;5;241m.\u001b[39mhead()\n",
      "Cell \u001b[0;32mIn[9], line 7\u001b[0m, in \u001b[0;36mget_adj_closes\u001b[0;34m(tickers, start_date, end_date)\u001b[0m\n\u001b[1;32m      2\u001b[0m \u001b[38;5;28;01mdef\u001b[39;00m \u001b[38;5;21mget_adj_closes\u001b[39m(tickers,\n\u001b[1;32m      3\u001b[0m                    start_date\u001b[38;5;241m=\u001b[39m\u001b[38;5;28;01mNone\u001b[39;00m,\n\u001b[1;32m      4\u001b[0m                    end_date\u001b[38;5;241m=\u001b[39m\u001b[38;5;28;01mNone\u001b[39;00m):\n\u001b[1;32m      5\u001b[0m     \u001b[38;5;66;03m# Fecha inicio por defecto (start_date='2010-01-01') y fecha fin por defecto (end_date=today)\u001b[39;00m\n\u001b[1;32m      6\u001b[0m     \u001b[38;5;66;03m# Descargamos DataFrame con todos los datos\u001b[39;00m\n\u001b[0;32m----> 7\u001b[0m     closes \u001b[38;5;241m=\u001b[39m web\u001b[38;5;241m.\u001b[39mget_data_yahoo(\n\u001b[1;32m      8\u001b[0m         tickers\u001b[38;5;241m=\u001b[39mtickers,\n\u001b[1;32m      9\u001b[0m         start\u001b[38;5;241m=\u001b[39mstart_date,\n\u001b[1;32m     10\u001b[0m         end\u001b[38;5;241m=\u001b[39mend_date\n\u001b[1;32m     11\u001b[0m     )\n\u001b[1;32m     12\u001b[0m     \u001b[38;5;66;03m# Solo necesitamos los precios ajustados en el cierre\u001b[39;00m\n\u001b[1;32m     13\u001b[0m     closes \u001b[38;5;241m=\u001b[39m closes[\u001b[38;5;124m'\u001b[39m\u001b[38;5;124mAdj Close\u001b[39m\u001b[38;5;124m'\u001b[39m]\n",
      "\u001b[0;31mNameError\u001b[0m: name 'web' is not defined"
     ]
    }
   ],
   "source": [
    "tickers = [\"AAPL\", \"AZO\", \"VRTX\", \"OXY\", \"WMT\"]\n",
    "start_date = \"2022-04-14\"\n",
    "end_date= \"2023-04-14\"\n",
    "closes = get_adj_closes(\n",
    "    tickers=tickers,\n",
    "    start_date=start_date,\n",
    "    end_date=end_date\n",
    ")\n",
    "closes.head()"
   ]
  },
  {
   "cell_type": "markdown",
   "id": "28948443",
   "metadata": {},
   "source": [
    "."
   ]
  },
  {
   "cell_type": "markdown",
   "id": "cd46b82a",
   "metadata": {},
   "source": [
    "- **Modelo**"
   ]
  },
  {
   "cell_type": "markdown",
   "id": "e63eeb0b",
   "metadata": {},
   "source": [
    "El siguente paso es obtener el rendimiento diario, para ello se va a observar la distribución de los rendimientos y así comprobar que se asemejen a una distribucion normal."
   ]
  },
  {
   "cell_type": "markdown",
   "id": "c48b7f92",
   "metadata": {},
   "source": [
    "."
   ]
  },
  {
   "cell_type": "code",
   "execution_count": 11,
   "id": "8d79185f",
   "metadata": {
    "scrolled": true
   },
   "outputs": [
    {
     "ename": "NameError",
     "evalue": "name 'closes' is not defined",
     "output_type": "error",
     "traceback": [
      "\u001b[0;31m---------------------------------------------------------------------------\u001b[0m",
      "\u001b[0;31mNameError\u001b[0m                                 Traceback (most recent call last)",
      "Cell \u001b[0;32mIn[11], line 1\u001b[0m\n\u001b[0;32m----> 1\u001b[0m ret \u001b[38;5;241m=\u001b[39m closes\u001b[38;5;241m.\u001b[39mpct_change()\u001b[38;5;241m.\u001b[39mdropna()\n\u001b[1;32m      2\u001b[0m ret\u001b[38;5;241m.\u001b[39mhead()\n",
      "\u001b[0;31mNameError\u001b[0m: name 'closes' is not defined"
     ]
    }
   ],
   "source": [
    "ret = closes.pct_change().dropna()\n",
    "ret.head()"
   ]
  },
  {
   "cell_type": "markdown",
   "id": "6a60bfb8",
   "metadata": {},
   "source": [
    "En la siguiente gráfica podemos ver que las distribuciones de los rendimientos se asemejan a una normal"
   ]
  },
  {
   "cell_type": "code",
   "execution_count": 5,
   "id": "34d32dc3",
   "metadata": {},
   "outputs": [
    {
     "data": {
      "text/plain": [
       "array([[<AxesSubplot:title={'center':'AAPL'}>,\n",
       "        <AxesSubplot:title={'center':'AZO'}>],\n",
       "       [<AxesSubplot:title={'center':'OXY'}>,\n",
       "        <AxesSubplot:title={'center':'VRTX'}>],\n",
       "       [<AxesSubplot:title={'center':'WMT'}>, <AxesSubplot:>]],\n",
       "      dtype=object)"
      ]
     },
     "execution_count": 5,
     "metadata": {},
     "output_type": "execute_result"
    },
    {
     "data": {
      "image/png": "[encoded data removed]",
      "text/plain": [
       "<Figure size 640x480 with 6 Axes>"
      ]
     },
     "metadata": {},
     "output_type": "display_data"
    }
   ],
   "source": [
    "ret.hist()"
   ]
  },
  {
   "cell_type": "markdown",
   "id": "5f9260d7",
   "metadata": {},
   "source": [
    "Ahora se van a obtener los datos de media y desviación estándar para cada uno de estos activos y así tener los parámetros de las distribuciones."
   ]
  },
  {
   "cell_type": "code",
   "execution_count": 6,
   "id": "c5580940",
   "metadata": {},
   "outputs": [
    {
     "data": {
      "text/html": [
       "<div>\n",
       "<style scoped>\n",
       "    .dataframe tbody tr th:only-of-type {\n",
       "        vertical-align: middle;\n",
       "    }\n",
       "\n",
       "    .dataframe tbody tr th {\n",
       "        vertical-align: top;\n",
       "    }\n",
       "\n",
       "    .dataframe thead th {\n",
       "        text-align: right;\n",
       "    }\n",
       "</style>\n",
       "<table border=\"1\" class=\"dataframe\">\n",
       "  <thead>\n",
       "    <tr style=\"text-align: right;\">\n",
       "      <th></th>\n",
       "      <th>AAPL</th>\n",
       "      <th>AZO</th>\n",
       "      <th>OXY</th>\n",
       "      <th>VRTX</th>\n",
       "      <th>WMT</th>\n",
       "    </tr>\n",
       "  </thead>\n",
       "  <tbody>\n",
       "    <tr>\n",
       "      <th>mean</th>\n",
       "      <td>0.000267</td>\n",
       "      <td>0.000921</td>\n",
       "      <td>0.000799</td>\n",
       "      <td>0.000787</td>\n",
       "      <td>0.000001</td>\n",
       "    </tr>\n",
       "    <tr>\n",
       "      <th>vol</th>\n",
       "      <td>0.021805</td>\n",
       "      <td>0.017606</td>\n",
       "      <td>0.028717</td>\n",
       "      <td>0.019963</td>\n",
       "      <td>0.016388</td>\n",
       "    </tr>\n",
       "  </tbody>\n",
       "</table>\n",
       "</div>"
      ],
      "text/plain": [
       "          AAPL       AZO       OXY      VRTX       WMT\n",
       "mean  0.000267  0.000921  0.000799  0.000787  0.000001\n",
       "vol   0.021805  0.017606  0.028717  0.019963  0.016388"
      ]
     },
     "execution_count": 6,
     "metadata": {},
     "output_type": "execute_result"
    }
   ],
   "source": [
    "summary_daily = pd.DataFrame({\n",
    "    \"mean\": ret.mean(),\n",
    "    \"vol\": ret.std()\n",
    "}).T\n",
    "summary_daily"
   ]
  },
  {
   "cell_type": "markdown",
   "id": "5959e371",
   "metadata": {},
   "source": [
    "Una vez obtenidos los parámetros de media y desviación de cada uno de los activos se va a realizar la simulación a 1 año con la siguiente función."
   ]
  },
  {
   "cell_type": "code",
   "execution_count": 2,
   "id": "44981649",
   "metadata": {},
   "outputs": [],
   "source": [
    "def simR(media,std,start,dias,N):\n",
    "    sim_R= np.random.normal(media,std,size=(dias,N))+1\n",
    "    fechas= pd.date_range(start,periods=dias)\n",
    "    return pd.DataFrame(sim_R,index=fechas)"
   ]
  },
  {
   "cell_type": "markdown",
   "id": "b37438a6",
   "metadata": {},
   "source": [
    "- **Explicación y limitaciones**\n",
    "\n",
    "El modelo planteado anteriormente pretende obtener el rendimiento pronosticado del portafolio planteado a 1 año, esto se obtiene mediamente las simulaciones de 365 dias según la media y la desviación de cada activo, después se obtiene el precio final y para determinar rendimiento total.\n",
    "\n",
    "Las limitaciones que presenta este modelo es que los activos pueden no siempre seguir la misma tendencia, y si son activos muy volátiles su media y su desviación estandar cambia drásticamente de un periodo a otro, por lo que puede no ser un modelo tan certero para todo tipo de activos."
   ]
  },
  {
   "cell_type": "markdown",
   "id": "30c205df",
   "metadata": {},
   "source": [
    "### Solución del modelo\n",
    "\n"
   ]
  },
  {
   "cell_type": "code",
   "execution_count": 3,
   "id": "22861a24",
   "metadata": {},
   "outputs": [
    {
     "ename": "NameError",
     "evalue": "name 'ret' is not defined",
     "output_type": "error",
     "traceback": [
      "\u001b[0;31m---------------------------------------------------------------------------\u001b[0m",
      "\u001b[0;31mNameError\u001b[0m                                 Traceback (most recent call last)",
      "Cell \u001b[0;32mIn[3], line 1\u001b[0m\n\u001b[0;32m----> 1\u001b[0m simR(ret\u001b[38;5;241m.\u001b[39mmean(), ret\u001b[38;5;241m.\u001b[39mstd(), \u001b[38;5;124m\"\u001b[39m\u001b[38;5;124m2023-05-14\u001b[39m\u001b[38;5;124m\"\u001b[39m, \u001b[38;5;241m365\u001b[39m, \u001b[38;5;241m1000\u001b[39m)\n",
      "\u001b[0;31mNameError\u001b[0m: name 'ret' is not defined"
     ]
    }
   ],
   "source": [
    "#Simulación del rendimiento a 1 año\n",
    "sim_R=simR(ret.mean(), ret.std(), \"2023-05-14\", 365, 1000)"
   ]
  },
  {
   "cell_type": "code",
   "execution_count": 17,
   "id": "44d49b8d",
   "metadata": {},
   "outputs": [
    {
     "ename": "NameError",
     "evalue": "name 'ret' is not defined",
     "output_type": "error",
     "traceback": [
      "\u001b[0;31m---------------------------------------------------------------------------\u001b[0m",
      "\u001b[0;31mNameError\u001b[0m                                 Traceback (most recent call last)",
      "Cell \u001b[0;32mIn[17], line 1\u001b[0m\n\u001b[0;32m----> 1\u001b[0m ret\u001b[38;5;241m.\u001b[39miloc[\u001b[38;5;241m-\u001b[39m\u001b[38;5;241m1\u001b[39m]\n",
      "\u001b[0;31mNameError\u001b[0m: name 'ret' is not defined"
     ]
    }
   ],
   "source": [
    "ret.iloc[-1]"
   ]
  },
  {
   "cell_type": "code",
   "execution_count": null,
   "id": "fb2dbb9b",
   "metadata": {},
   "outputs": [],
   "source": [
    "# Precios de cierre promedio de las acciones\n",
    "\n",
    "precios_cierre=sim_R.cumprod()*26.912582 \n",
    "precios_cierre.mean(axis=1)"
   ]
  },
  {
   "cell_type": "code",
   "execution_count": null,
   "id": "e849a489",
   "metadata": {},
   "outputs": [],
   "source": [
    "# Probabilidad del precio umbral\n",
    "# Simulaciones en el que los precios de cierre fueron mayores a 28\n",
    "\n",
    "(sim_R.cumprod()*26.912582 > 28).mean(axis=1)"
   ]
  },
  {
   "cell_type": "code",
   "execution_count": null,
   "id": "4448e55f",
   "metadata": {},
   "outputs": [],
   "source": [
    "# Probabilidad que el dinero crezca un 20%\n",
    "\n",
    "(sim_R_.cumprod()*56.632259 > 56.632259*1.20).mean(axis=1)"
   ]
  },
  {
   "cell_type": "markdown",
   "id": "61d36c4b",
   "metadata": {},
   "source": [
    "### Conclusiones.\n",
    "\n",
    "\n",
    "\n",
    "### Referencias.\n",
    "\n"
   ]
  },
  {
   "cell_type": "code",
   "execution_count": null,
   "id": "902a6b67",
   "metadata": {},
   "outputs": [],
   "source": []
  }
 ],
 "metadata": {
  "kernelspec": {
   "display_name": "Python 3 (ipykernel)",
   "language": "python",
   "name": "python3"
  },
  "language_info": {
   "codemirror_mode": {
    "name": "ipython",
    "version": 3
   },
   "file_extension": ".py",
   "mimetype": "text/x-python",
   "name": "python",
   "nbconvert_exporter": "python",
   "pygments_lexer": "ipython3",
   "version": "3.11.5"
  }
 },
 "nbformat": 4,
 "nbformat_minor": 5
}
